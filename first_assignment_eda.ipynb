{
 "cells": [
  {
   "cell_type": "code",
   "execution_count": 1,
   "id": "dcb88e31-546e-4264-8db7-dbe363edf7ee",
   "metadata": {},
   "outputs": [],
   "source": [
    "#Ques2: Describe the role of predefined keywords in Python and provide examples of how \n",
    "#they are used in a program?"
   ]
  },
  {
   "cell_type": "code",
   "execution_count": 2,
   "id": "d6104801-aea6-47e5-bd17-99f0a8785562",
   "metadata": {},
   "outputs": [
    {
     "name": "stdout",
     "output_type": "stream",
     "text": [
      "The number is greater than 0\n"
     ]
    }
   ],
   "source": [
    "a=100\n",
    "if a>0:\n",
    "    print(\"The number is greater than 0\")"
   ]
  },
  {
   "cell_type": "code",
   "execution_count": 3,
   "id": "7157fa1b-6398-4b43-ad01-7f595069cd8e",
   "metadata": {},
   "outputs": [
    {
     "name": "stdout",
     "output_type": "stream",
     "text": [
      "You are pass\n"
     ]
    }
   ],
   "source": [
    "score = 80\n",
    "if score >50:\n",
    "    print(\"You are pass\")"
   ]
  },
  {
   "cell_type": "code",
   "execution_count": 4,
   "id": "c1d1c7b7-43e9-4086-940e-f7339120c5d5",
   "metadata": {},
   "outputs": [
    {
     "name": "stdout",
     "output_type": "stream",
     "text": [
      "You are pass\n"
     ]
    }
   ],
   "source": [
    "score = 80\n",
    "if score >50:\n",
    "    print(\"You are pass\") # executes only if condition is true\n",
    "else:\n",
    "    print(\"You are fail\") # if the condition is not true this block will be exceuted"
   ]
  },
  {
   "cell_type": "code",
   "execution_count": 5,
   "id": "47754177-915f-434c-97ed-ffca1aeff3c4",
   "metadata": {},
   "outputs": [
    {
     "name": "stdout",
     "output_type": "stream",
     "text": [
      "You are eligible to vote\n"
     ]
    }
   ],
   "source": [
    "age = 18\n",
    "if age <=18:\n",
    "    print(\"You are eligible to vote\") #executes only if condition is true\n",
    "else:\n",
    "    print(\"You are not eligible to vote\") # executes if condition is not true"
   ]
  },
  {
   "cell_type": "code",
   "execution_count": 6,
   "id": "7a06ce2f-427a-4763-be78-dc1cebaff882",
   "metadata": {},
   "outputs": [
    {
     "name": "stdout",
     "output_type": "stream",
     "text": [
      "You are passed with A grade\n"
     ]
    }
   ],
   "source": [
    "score =94\n",
    "if score>90:\n",
    "    print(\"You are passed with A grade\")\n",
    "elif (80<=score>70):\n",
    "    print(\"You are passed with B grade\")\n",
    "elif (60<=score>50):\n",
    "    print(\"You are passed with C grade\")\n",
    "else:\n",
    "    print(\"You are fail\")"
   ]
  },
  {
   "cell_type": "code",
   "execution_count": 7,
   "id": "39a06e42-1eae-4016-b74d-1ac36ce461fd",
   "metadata": {},
   "outputs": [
    {
     "name": "stdout",
     "output_type": "stream",
     "text": [
      "Both x and y greater than 5\n"
     ]
    }
   ],
   "source": [
    "# nested if else >> you can have multiple if else inside if else\n",
    "x = 7\n",
    "y = 6\n",
    "if x>5:\n",
    "    if y>5:\n",
    "        print (\"Both x and y greater than 5\")\n",
    "    else:\n",
    "        print (\"The number is greater than y but smaller than 5\")\n",
    "else:\n",
    "    print (\"x is not greater than 5\")"
   ]
  },
  {
   "cell_type": "code",
   "execution_count": 8,
   "id": "300bca33-0c49-42d3-a5b0-a7be85d0394c",
   "metadata": {},
   "outputs": [
    {
     "name": "stdout",
     "output_type": "stream",
     "text": [
      "You are not a vip customer and will be charged a regular price\n"
     ]
    }
   ],
   "source": [
    "# it is a nested if else statement, that means if else inside if else\n",
    "is_vip = False\n",
    "age = 15\n",
    "if is_vip:\n",
    "    if age >=18:\n",
    "        if age < 65:\n",
    "            print(\"welcome to vip customer\")\n",
    "        else: \n",
    "            print(\"You are vip and very imp. YOu are eligible for senior citizen discount\")\n",
    "    else:\n",
    "        print(\"Vip staus is only for adult\")\n",
    "else:\n",
    "    print(\"You are not a vip customer and will be charged a regular price\")"
   ]
  },
  {
   "cell_type": "code",
   "execution_count": 9,
   "id": "451632bf-45a8-456d-93f4-95f5e8e816c4",
   "metadata": {},
   "outputs": [
    {
     "name": "stdout",
     "output_type": "stream",
     "text": [
      "0\n",
      "1\n",
      "2\n",
      "3\n",
      "4\n",
      "5\n",
      "6\n",
      "7\n",
      "8\n",
      "9\n"
     ]
    }
   ],
   "source": [
    "# for loop\n",
    "for i in range (10):\n",
    "    print(i)"
   ]
  },
  {
   "cell_type": "code",
   "execution_count": 10,
   "id": "50fe8813-17c7-49bd-981c-a8504b1005f8",
   "metadata": {},
   "outputs": [
    {
     "name": "stdout",
     "output_type": "stream",
     "text": [
      "2\n",
      "3\n"
     ]
    }
   ],
   "source": [
    "# for loop with break\n",
    "name = [2, 3, \"Ananyaa\", \"Pooja\"]\n",
    "for i in name:\n",
    "    if i == \"Ananyaa\":\n",
    "        break\n",
    "    print(i) \n",
    "# break terminates/exits the loop"
   ]
  },
  {
   "cell_type": "code",
   "execution_count": 11,
   "id": "63f13db1-6a9c-4a91-8be0-419185733fd1",
   "metadata": {},
   "outputs": [
    {
     "name": "stdout",
     "output_type": "stream",
     "text": [
      "2\n",
      "3\n",
      "Pooja\n"
     ]
    }
   ],
   "source": [
    "# for loop with continue\n",
    "for i in name:\n",
    "    if i == \"Ananyaa\":\n",
    "        continue\n",
    "    print (i)\n",
    "# The condition is met it will break loop"
   ]
  },
  {
   "cell_type": "code",
   "execution_count": 12,
   "id": "430f63a9-c7d7-4a4e-ab98-d43027e40f2f",
   "metadata": {},
   "outputs": [
    {
     "name": "stdout",
     "output_type": "stream",
     "text": [
      "1\n",
      "2\n",
      "3\n",
      "4\n",
      "5\n",
      "6\n",
      "This will be executed when the while is run successfuly without any break\n"
     ]
    }
   ],
   "source": [
    "n = 7\n",
    "i = 1\n",
    "while i < n:\n",
    "    print(i)\n",
    "    i = i+1\n",
    "else:\n",
    "    print(\"This will be executed when the while is run successfuly without any break\")"
   ]
  },
  {
   "cell_type": "code",
   "execution_count": 13,
   "id": "a75dcf11-4233-499c-8b0b-14c27b065ecd",
   "metadata": {},
   "outputs": [
    {
     "name": "stdout",
     "output_type": "stream",
     "text": [
      "1\n",
      "2\n"
     ]
    }
   ],
   "source": [
    "n = 7\n",
    "i = 1\n",
    "while i < n:\n",
    "    print(i)\n",
    "    i = i+1\n",
    "    if i == 3:\n",
    "        break\n",
    "else:\n",
    "    print(\"This will be executed when the while is run successfuly without any break\")"
   ]
  },
  {
   "cell_type": "code",
   "execution_count": 14,
   "id": "275007e7-8a53-4b6e-a170-a896c1043324",
   "metadata": {},
   "outputs": [
    {
     "name": "stdout",
     "output_type": "stream",
     "text": [
      "1\n",
      "2\n",
      "3\n",
      "4\n",
      "5\n",
      "6\n",
      "This will be executed when the while is run successfuly without any break\n"
     ]
    }
   ],
   "source": [
    "n = 7\n",
    "i = 1\n",
    "while i < n:\n",
    "    print(i)\n",
    "    i = i+1\n",
    "    if i == 3:\n",
    "        continue\n",
    "else:\n",
    "    print(\"This will be executed when the while is run successfuly without any break\")"
   ]
  },
  {
   "cell_type": "code",
   "execution_count": 15,
   "id": "ec32b32f-0e93-401d-b3aa-a35bb81849c3",
   "metadata": {},
   "outputs": [],
   "source": [
    "# Ques 3: Compare and contrast mutable and immutable objects in Python with example?"
   ]
  },
  {
   "cell_type": "code",
   "execution_count": 16,
   "id": "cb2070a5-994e-49c8-8b70-5ce41275e959",
   "metadata": {},
   "outputs": [
    {
     "name": "stdout",
     "output_type": "stream",
     "text": [
      "[2, 3.4, 'Mango', 'Orange', 'Banana']\n",
      "Orange\n",
      "[2, 3.4, 'Mango', 'Kiwi', 'Banana']\n"
     ]
    }
   ],
   "source": [
    "# mutable objects means which can be changed \n",
    "# list, dictionary and sets and mutable objects\n",
    "my_list = [2, 3.4, \"Mango\", \"Orange\", \"Banana\"]\n",
    "print(my_list)\n",
    "print (my_list[3])\n",
    "my_list[3] = \"Kiwi\"\n",
    "print (my_list)\n",
    "# in this list orange is changed with kiwi so that list is mutable"
   ]
  },
  {
   "cell_type": "code",
   "execution_count": 17,
   "id": "a4057d2c-a916-494d-8921-a90b86beb1db",
   "metadata": {},
   "outputs": [
    {
     "name": "stdout",
     "output_type": "stream",
     "text": [
      "(2, 3, 'Brinjal', 'Tomato', 'Potato', 'Capcicum')\n",
      "Tomato\n"
     ]
    },
    {
     "ename": "TypeError",
     "evalue": "'tuple' object does not support item assignment",
     "output_type": "error",
     "traceback": [
      "\u001b[0;31m---------------------------------------------------------------------------\u001b[0m",
      "\u001b[0;31mTypeError\u001b[0m                                 Traceback (most recent call last)",
      "Cell \u001b[0;32mIn[17], line 6\u001b[0m\n\u001b[1;32m      4\u001b[0m \u001b[38;5;28mprint\u001b[39m(my_tuple)\n\u001b[1;32m      5\u001b[0m \u001b[38;5;28mprint\u001b[39m (my_tuple[\u001b[38;5;241m3\u001b[39m])\n\u001b[0;32m----> 6\u001b[0m \u001b[43mmy_tuple\u001b[49m\u001b[43m[\u001b[49m\u001b[38;5;241;43m3\u001b[39;49m\u001b[43m]\u001b[49m \u001b[38;5;241m=\u001b[39m \u001b[38;5;124m\"\u001b[39m\u001b[38;5;124mOnion\u001b[39m\u001b[38;5;124m\"\u001b[39m\n\u001b[1;32m      7\u001b[0m \u001b[38;5;28mprint\u001b[39m (my_tuple)\n\u001b[1;32m      8\u001b[0m \u001b[38;5;66;03m# item assignment is not poosible in tupple that means tuple is immutable\u001b[39;00m\n",
      "\u001b[0;31mTypeError\u001b[0m: 'tuple' object does not support item assignment"
     ]
    }
   ],
   "source": [
    "# immutable objects are those which cannot be changes\n",
    "# integer, float, tuple, String\n",
    "my_tuple = (2, 3, \"Brinjal\", \"Tomato\", \"Potato\", \"Capcicum\")\n",
    "print(my_tuple)\n",
    "print (my_tuple[3])\n",
    "my_tuple[3] = \"Onion\"\n",
    "print (my_tuple)\n",
    "# item assignment is not poosible in tupple that means tuple is immutable"
   ]
  },
  {
   "cell_type": "code",
   "execution_count": 18,
   "id": "e7831061-9316-42e0-9418-151ed53f3d23",
   "metadata": {},
   "outputs": [],
   "source": [
    "# Oues 4:Discuss the different types of operators in Python and provide examples of how they are used? "
   ]
  },
  {
   "cell_type": "code",
   "execution_count": 19,
   "id": "4bc4c0e2-edde-44bc-bb96-8a8c613d1465",
   "metadata": {},
   "outputs": [
    {
     "name": "stdout",
     "output_type": "stream",
     "text": [
      "12\n",
      "2\n",
      "35\n",
      "1.4\n",
      "1\n",
      "2\n",
      "16807\n"
     ]
    }
   ],
   "source": [
    "# Arithematic Operator\n",
    "a = 7\n",
    "b = 5\n",
    "print (a+b)\n",
    "print (a-b)\n",
    "print (a*b)\n",
    "print (a/b)\n",
    "print (a//b)\n",
    "print (a%b)\n",
    "print (a**b)"
   ]
  },
  {
   "cell_type": "code",
   "execution_count": 20,
   "id": "1fc63418-2207-4be8-a4b9-04cb53919026",
   "metadata": {},
   "outputs": [
    {
     "name": "stdout",
     "output_type": "stream",
     "text": [
      "False\n",
      "True\n",
      "True\n",
      "False\n",
      "True\n",
      "False\n"
     ]
    }
   ],
   "source": [
    "# Comparision Operator\n",
    "a = 8\n",
    "b = 5\n",
    "print (a==b)\n",
    "print (a!=b)\n",
    "print (a>b)\n",
    "print (a<b)\n",
    "print (a>=b)\n",
    "print (a<=b)"
   ]
  },
  {
   "cell_type": "code",
   "execution_count": 21,
   "id": "851a8932-c026-4def-9927-6dc0c3b9b7ba",
   "metadata": {},
   "outputs": [
    {
     "name": "stdout",
     "output_type": "stream",
     "text": [
      "15\n",
      "12\n",
      "36\n",
      "12.0\n",
      "4.0\n",
      "1.0\n",
      "1.0\n"
     ]
    }
   ],
   "source": [
    "# Assignment Operator \n",
    "x =10  # assigning a value to x\n",
    "x += 5  \n",
    "print(x) \n",
    "x -= 3  \n",
    "print(x)\n",
    "x*=3\n",
    "print(x)\n",
    "x/=3\n",
    "print(x)\n",
    "x//=3\n",
    "print(x)\n",
    "x%=3\n",
    "print(x)\n",
    "x**=3\n",
    "print(x)"
   ]
  },
  {
   "cell_type": "code",
   "execution_count": 22,
   "id": "86307fcd-a764-4c97-909f-f7819aa21d9e",
   "metadata": {},
   "outputs": [
    {
     "name": "stdout",
     "output_type": "stream",
     "text": [
      "False\n",
      "True\n",
      "False\n"
     ]
    }
   ],
   "source": [
    "# Logical Operator\n",
    "a = True\n",
    "b = False\n",
    "\n",
    "# AND operation\n",
    "print(a and b)\n",
    "\n",
    "# OR operation\n",
    "print(a or b) \n",
    "\n",
    "# NOT operation\n",
    "print(not a) "
   ]
  },
  {
   "cell_type": "code",
   "execution_count": 23,
   "id": "c6d7efd8-1ffa-45e1-8028-27bcf03c3324",
   "metadata": {},
   "outputs": [
    {
     "name": "stdout",
     "output_type": "stream",
     "text": [
      "1\n",
      "10\n",
      "2\n"
     ]
    }
   ],
   "source": [
    "# Bitwise Operator\n",
    "a = 5 \n",
    "b = 3\n",
    "print(a & b)  \n",
    "print(a << 1)  \n",
    "print(a >> 1)"
   ]
  },
  {
   "cell_type": "code",
   "execution_count": 24,
   "id": "fcc0a851-66f7-48d7-b069-24836fe15539",
   "metadata": {},
   "outputs": [
    {
     "name": "stdout",
     "output_type": "stream",
     "text": [
      "True\n",
      "True\n"
     ]
    }
   ],
   "source": [
    "# Membership Operator\n",
    "my_list = [1, 2, 3, 4]\n",
    "print(2 in my_list)  \n",
    "print(5 not in my_list) "
   ]
  },
  {
   "cell_type": "code",
   "execution_count": 25,
   "id": "0ff55669-ce59-46c6-a7de-6307e849d4d7",
   "metadata": {},
   "outputs": [],
   "source": [
    "#Ques5: Explain the concept of typecasting in Python with examples?"
   ]
  },
  {
   "cell_type": "code",
   "execution_count": 27,
   "id": "f50bde34-d014-4cb7-8e5a-8c5be0572c4d",
   "metadata": {},
   "outputs": [
    {
     "data": {
      "text/plain": [
       "int"
      ]
     },
     "execution_count": 27,
     "metadata": {},
     "output_type": "execute_result"
    }
   ],
   "source": [
    "a = 5\n",
    "type(a)"
   ]
  },
  {
   "cell_type": "code",
   "execution_count": 29,
   "id": "d6583e1f-2ca3-4ff3-a2c6-81a54e91d83c",
   "metadata": {},
   "outputs": [
    {
     "data": {
      "text/plain": [
       "float"
      ]
     },
     "execution_count": 29,
     "metadata": {},
     "output_type": "execute_result"
    }
   ],
   "source": [
    "a = 3.3\n",
    "type (a)"
   ]
  },
  {
   "cell_type": "code",
   "execution_count": 30,
   "id": "4c69ace5-8b70-46f9-bf03-3c9e6afdd049",
   "metadata": {},
   "outputs": [
    {
     "data": {
      "text/plain": [
       "str"
      ]
     },
     "execution_count": 30,
     "metadata": {},
     "output_type": "execute_result"
    }
   ],
   "source": [
    "a = \"Ananyaa\"\n",
    "type (a)"
   ]
  },
  {
   "cell_type": "code",
   "execution_count": 31,
   "id": "41ca0217-bce7-496d-b273-a7dfa02b0dc6",
   "metadata": {},
   "outputs": [
    {
     "name": "stdout",
     "output_type": "stream",
     "text": [
      "100\n",
      "<class 'str'>\n",
      "100\n",
      "<class 'int'>\n"
     ]
    }
   ],
   "source": [
    "#Converting String to Integer\n",
    "a = \"100\"\n",
    "print (a)\n",
    "print(type(a))\n",
    "b = int(a)\n",
    "print (b)\n",
    "print(type (b))"
   ]
  },
  {
   "cell_type": "code",
   "execution_count": 32,
   "id": "ea253abb-7bc4-4c45-b8bb-108969dbf49a",
   "metadata": {},
   "outputs": [
    {
     "name": "stdout",
     "output_type": "stream",
     "text": [
      "3.3\n",
      "<class 'float'>\n",
      "3\n",
      "<class 'int'>\n"
     ]
    }
   ],
   "source": [
    "#Converting Float to Integer\n",
    "a = 3.3\n",
    "print (a)\n",
    "print(type(a))\n",
    "b = int(a)\n",
    "print (b)\n",
    "print(type (b))"
   ]
  },
  {
   "cell_type": "code",
   "execution_count": 33,
   "id": "ed0c7c2c-f47c-4f16-87e4-f6176642ebfa",
   "metadata": {},
   "outputs": [
    {
     "name": "stdout",
     "output_type": "stream",
     "text": [
      "3\n",
      "<class 'int'>\n",
      "3\n",
      "<class 'str'>\n"
     ]
    }
   ],
   "source": [
    "# Converting Integer to String\n",
    "a = 3\n",
    "print (a)\n",
    "print(type(a))\n",
    "b = str(a)\n",
    "print (b)\n",
    "print(type (b))"
   ]
  },
  {
   "cell_type": "code",
   "execution_count": 34,
   "id": "cc0732df-71a1-49cf-bd38-373ac88d0d7b",
   "metadata": {},
   "outputs": [
    {
     "name": "stdout",
     "output_type": "stream",
     "text": [
      "[1, 2, 3]\n",
      "<class 'list'>\n",
      "(1, 2, 3)\n",
      "<class 'tuple'>\n"
     ]
    }
   ],
   "source": [
    "# Converting List to Tuple\n",
    "a = [1, 2, 3]\n",
    "print (a)\n",
    "print(type(a))\n",
    "b = tuple(a)\n",
    "print (b)\n",
    "print(type (b))"
   ]
  },
  {
   "cell_type": "code",
   "execution_count": 35,
   "id": "88d9d62f-d503-424a-b7bd-cb219659fd25",
   "metadata": {},
   "outputs": [],
   "source": [
    "#Ques 6: How do conditional statements work in Python. Illustrate with an example?"
   ]
  },
  {
   "cell_type": "code",
   "execution_count": 36,
   "id": "0399a544-bde3-48dc-aa38-dc3b3f6390ea",
   "metadata": {},
   "outputs": [
    {
     "name": "stdout",
     "output_type": "stream",
     "text": [
      "The number is greater than 0\n"
     ]
    }
   ],
   "source": [
    "#if-statement\n",
    "a=100\n",
    "if a>20:\n",
    "    print(\"The number is greater than 0\")"
   ]
  },
  {
   "cell_type": "code",
   "execution_count": 37,
   "id": "79008407-480c-4b57-ad63-365b649bd440",
   "metadata": {},
   "outputs": [
    {
     "name": "stdout",
     "output_type": "stream",
     "text": [
      "You are eligible to vote\n"
     ]
    }
   ],
   "source": [
    "# if-else Statement\n",
    "age = 18\n",
    "if age <=18:\n",
    "    print(\"You are eligible to vote\") #executes only if condition is true\n",
    "else:\n",
    "    print(\"You are not eligible to vote\") # executes if condition is not true"
   ]
  },
  {
   "cell_type": "code",
   "execution_count": 38,
   "id": "8b9445c8-9d4c-452a-97ad-83849e633041",
   "metadata": {},
   "outputs": [
    {
     "name": "stdout",
     "output_type": "stream",
     "text": [
      "You are passed with A grade\n"
     ]
    }
   ],
   "source": [
    "# if-elif-else Statement\n",
    "score =94\n",
    "if score>90:\n",
    "    print(\"You are passed with A grade\")\n",
    "elif (80<=score>70):\n",
    "    print(\"You are passed with B grade\")\n",
    "elif (60<=score>50):\n",
    "    print(\"You are passed with C grade\")\n",
    "else:\n",
    "    print(\"You are fail\")"
   ]
  },
  {
   "cell_type": "code",
   "execution_count": 39,
   "id": "2ea83c51-1fcc-49ec-9afc-80e10254bf93",
   "metadata": {},
   "outputs": [
    {
     "name": "stdout",
     "output_type": "stream",
     "text": [
      "Both x and y greater thann 5\n"
     ]
    }
   ],
   "source": [
    "# Nested if statement\n",
    "x = 7\n",
    "y = 6\n",
    "if x>5:\n",
    "    if y>5:\n",
    "        print (\"Both x and y greater thann 5\")\n",
    "    else:\n",
    "        print (\"The number is greater than y but smaller than 5\")\n",
    "else:\n",
    "    print (\"x is not greater than 5\")"
   ]
  },
  {
   "cell_type": "code",
   "execution_count": 40,
   "id": "f409e6ad-4006-4ac4-b25a-22e8dd229d9c",
   "metadata": {},
   "outputs": [],
   "source": [
    "#Ques 7: Describe the different types of loops in Python and their use cases with examples?"
   ]
  },
  {
   "cell_type": "code",
   "execution_count": 41,
   "id": "19fdebee-2bba-4c91-add4-1be91be69126",
   "metadata": {},
   "outputs": [
    {
     "name": "stdout",
     "output_type": "stream",
     "text": [
      "1\n",
      "2\n",
      "3\n",
      "4\n",
      "5\n",
      "6\n",
      "This will be executed when the while is run successfuly without any break\n"
     ]
    }
   ],
   "source": [
    "n = 7\n",
    "i = 1\n",
    "while i < n:\n",
    "    print(i)\n",
    "    i = i+1\n",
    "else:\n",
    "    print(\"This will be executed when the while is run successfuly without any break\")"
   ]
  },
  {
   "cell_type": "code",
   "execution_count": 42,
   "id": "7efc02ed-eb1a-49d7-a273-0115314d0e14",
   "metadata": {},
   "outputs": [
    {
     "name": "stdout",
     "output_type": "stream",
     "text": [
      "1\n",
      "2\n"
     ]
    }
   ],
   "source": [
    "n = 7\n",
    "i = 1\n",
    "while i < n:\n",
    "    print(i)\n",
    "    i = i+1\n",
    "    if i == 3:\n",
    "        break\n",
    "else:\n",
    "    print(\"This will be executed when the while is run successfuly without any break\")"
   ]
  },
  {
   "cell_type": "code",
   "execution_count": 43,
   "id": "ca8123d5-aa39-41c8-8b2e-2864f738f981",
   "metadata": {},
   "outputs": [
    {
     "name": "stdout",
     "output_type": "stream",
     "text": [
      "1\n",
      "2\n",
      "3\n",
      "4\n",
      "5\n",
      "6\n",
      "This will be executed when the while is run successfuly without any break\n"
     ]
    }
   ],
   "source": [
    "n = 7\n",
    "i = 1\n",
    "while i < n:\n",
    "    print(i)\n",
    "    i = i+1\n",
    "    if i == 3:\n",
    "        continue\n",
    "else:\n",
    "    print(\"This will be executed when the while is run successfuly without any break\")"
   ]
  },
  {
   "cell_type": "code",
   "execution_count": 44,
   "id": "80c87e18-a401-4042-9c0e-d2c1817281ed",
   "metadata": {},
   "outputs": [
    {
     "name": "stdout",
     "output_type": "stream",
     "text": [
      "0\n",
      "1\n",
      "2\n",
      "3\n",
      "4\n",
      "5\n",
      "6\n",
      "7\n",
      "8\n",
      "9\n"
     ]
    }
   ],
   "source": [
    "# for loop\n",
    "for i in range (10):\n",
    "    print(i)"
   ]
  },
  {
   "cell_type": "code",
   "execution_count": 45,
   "id": "37fa2af3-f965-470c-a749-856211d9a6aa",
   "metadata": {},
   "outputs": [
    {
     "name": "stdout",
     "output_type": "stream",
     "text": [
      "2\n",
      "3\n"
     ]
    }
   ],
   "source": [
    "# for loop with break\n",
    "name = [2, 3, \"Ananyaa\", \"Pooja\"]\n",
    "for i in name:\n",
    "    if i == \"Ananyaa\":\n",
    "        break\n",
    "    print(i) "
   ]
  },
  {
   "cell_type": "code",
   "execution_count": 46,
   "id": "60a432ef-f5b4-4829-8c33-857052faf2e1",
   "metadata": {},
   "outputs": [
    {
     "name": "stdout",
     "output_type": "stream",
     "text": [
      "2\n",
      "3\n",
      "Pooja\n"
     ]
    }
   ],
   "source": [
    "# for loop with continue\n",
    "for i in name:\n",
    "    if i == \"Ananyaa\":\n",
    "        continue\n",
    "    print (i)"
   ]
  }
 ],
 "metadata": {
  "kernelspec": {
   "display_name": "Python 3 (ipykernel)",
   "language": "python",
   "name": "python3"
  },
  "language_info": {
   "codemirror_mode": {
    "name": "ipython",
    "version": 3
   },
   "file_extension": ".py",
   "mimetype": "text/x-python",
   "name": "python",
   "nbconvert_exporter": "python",
   "pygments_lexer": "ipython3",
   "version": "3.10.8"
  }
 },
 "nbformat": 4,
 "nbformat_minor": 5
}
